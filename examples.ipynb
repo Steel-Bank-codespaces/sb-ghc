{
 "cells": [
  {
   "cell_type": "code",
   "execution_count": 1,
   "metadata": {},
   "outputs": [
    {
     "name": "stdout",
     "output_type": "stream",
     "text": [
      "Unknown option: csv\n",
      "Usage:\n",
      "\n",
      "parallel [options] [command [arguments]] < list_of_arguments\n",
      "parallel [options] [command [arguments]] (::: arguments|:::: argfile(s))...\n",
      "cat ... | parallel --pipe [options] [command [arguments]]\n",
      "\n",
      "-j n            Run n jobs in parallel\n",
      "-k              Keep same order\n",
      "-X              Multiple arguments with context replace\n",
      "--colsep regexp Split input on regexp for positional replacements\n",
      "{} {.} {/} {/.} {#} {%} {= perl code =} Replacement strings\n",
      "{3} {3.} {3/} {3/.} {=3 perl code =}    Positional replacement strings\n",
      "With --plus:    {} = {+/}/{/} = {.}.{+.} = {+/}/{/.}.{+.} = {..}.{+..} =\n",
      "                {+/}/{/..}.{+..} = {...}.{+...} = {+/}/{/...}.{+...}\n",
      "\n",
      "-S sshlogin     Example: foo@server.example.com\n",
      "--slf ..        Use ~/.parallel/sshloginfile as the list of sshlogins\n",
      "--trc {}.bar    Shorthand for --transfer --return {}.bar --cleanup\n",
      "--onall         Run the given command with argument on all sshlogins\n",
      "--nonall        Run the given command with no arguments on all sshlogins\n",
      "\n",
      "--pipe          Split stdin (standard input) to multiple jobs.\n",
      "--recend str    Record end separator for --pipe.\n",
      "--recstart str  Record start separator for --pipe.\n",
      "\n",
      "See 'man parallel' for details\n",
      "\n",
      "Academic tradition requires you to cite works you base your article on.\n",
      "When using programs that use GNU Parallel to process data for publication\n",
      "please cite:\n",
      "\n",
      "  O. Tange (2011): GNU Parallel - The Command-Line Power Tool,\n",
      "  ;login: The USENIX Magazine, February 2011:42-47.\n",
      "\n"
     ]
    }
   ],
   "source": [
    "! parallel --skip-first-line -a roster.csv --csv echo {1}"
   ]
  },
  {
   "cell_type": "code",
   "execution_count": null,
   "metadata": {},
   "outputs": [],
   "source": []
  }
 ],
 "metadata": {
  "kernelspec": {
   "display_name": "Python 3.9.7 ('base')",
   "language": "python",
   "name": "python3"
  },
  "language_info": {
   "codemirror_mode": {
    "name": "ipython",
    "version": 3
   },
   "file_extension": ".py",
   "mimetype": "text/x-python",
   "name": "python",
   "nbconvert_exporter": "python",
   "pygments_lexer": "ipython3",
   "version": "3.9.12"
  },
  "orig_nbformat": 4,
  "vscode": {
   "interpreter": {
    "hash": "d4d1e4263499bec80672ea0156c357c1ee493ec2b1c70f0acce89fc37c4a6abe"
   }
  }
 },
 "nbformat": 4,
 "nbformat_minor": 2
}
